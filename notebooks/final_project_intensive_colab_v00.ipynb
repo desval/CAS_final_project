{
 "cells": [
  {
   "cell_type": "markdown",
   "metadata": {},
   "source": [
    "# The heterogenous causal effect of economic integration agreements on Foreign Direct Investment (FDI)"
   ]
  },
  {
   "cell_type": "markdown",
   "metadata": {},
   "source": [
    "In this file we estimate the causal effects of economic integration agreements on investment flows:\n",
    "\n",
    "We can study only one discrete treatment, or many continuous treatments.\n",
    "In addition, the dependent variable needs to be continuous? Not sure about this, probably yes. Otherwise we would have a linear probability model\n",
    "\n",
    "* A dummy indicator for the presence of a BIT\n",
    "* A dummy indicator for the presence of a PTA\n",
    "* A discrete indicator for the depth of a PTA\n",
    "\n",
    "Can study heterogeneity as well, relative to some variable\n",
    "* GDP per capita, as proxy for economic development\n",
    "\n",
    "Different estimators will be considered\n",
    "\n",
    "The data we have is a panel, therefore need to add fix effects\n",
    "\n",
    "We study FDI in two dimensions\n",
    "* Extensive: creation of new bilateral FDI relations\n",
    "* Intensive: increase of already positive bilateral FDI stocks\n",
    "\n",
    "For each of them, we employ linear and parametric estimation. Heterogenous effects are studied by taking into account the level of economic development by the source and the destination, proxied by GDP per capita.\n",
    "\n",
    "\n",
    "Useful links:\n",
    "* https://econml.azurewebsites.net/reference.html\n",
    "* https://econml.azurewebsites.net/spec/estimation.html\n",
    "\n"
   ]
  },
  {
   "cell_type": "code",
   "execution_count": 1,
   "metadata": {},
   "outputs": [],
   "source": [
    "import econml\n",
    "import os\n",
    "import numpy as np\n",
    "import pandas as pd\n",
    "\n",
    "## Ignore warnings\n",
    "import warnings\n",
    "warnings.filterwarnings(\"ignore\")\n",
    "\n",
    "# Main imports\n",
    "from econml.dml import DML, LinearDML, SparseLinearDML, CausalForestDML\n",
    "\n",
    "# Helper imports\n",
    "from itertools import product\n",
    "from sklearn.linear_model import (Lasso, LassoCV, LogisticRegression,\n",
    "                                  LogisticRegressionCV,LinearRegression,\n",
    "                                  MultiTaskElasticNet,MultiTaskElasticNetCV)\n",
    "from sklearn.ensemble import RandomForestRegressor,RandomForestClassifier\n",
    "from sklearn.preprocessing import PolynomialFeatures\n",
    "import matplotlib.pyplot as plt\n",
    "import matplotlib\n",
    "from sklearn.model_selection import train_test_split\n",
    "\n",
    "%matplotlib inline"
   ]
  },
  {
   "cell_type": "code",
   "execution_count": 2,
   "metadata": {},
   "outputs": [],
   "source": [
    "os.chdir('C:/Users/desil/Documents/GitHub/EconML')"
   ]
  },
  {
   "cell_type": "markdown",
   "metadata": {},
   "source": [
    "## Import data"
   ]
  },
  {
   "cell_type": "code",
   "execution_count": 3,
   "metadata": {},
   "outputs": [
    {
     "data": {
      "image/png": "[encoded data removed]",
      "text/latex": [
       "$\\displaystyle \\left( 268213, \\  48\\right)$"
      ],
      "text/plain": [
       "(268213, 48)"
      ]
     },
     "execution_count": 3,
     "metadata": {},
     "output_type": "execute_result"
    }
   ],
   "source": [
    "# read in data\n",
    "d = pd.read_csv('data/CAS_fdi_panel_complete.csv', sep=',')\n",
    "d.shape"
   ]
  },
  {
   "cell_type": "code",
   "execution_count": 4,
   "metadata": {},
   "outputs": [
    {
     "name": "stdout",
     "output_type": "stream",
     "text": [
      "<class 'pandas.core.frame.DataFrame'>\n",
      "RangeIndex: 268213 entries, 0 to 268212\n",
      "Data columns (total 48 columns):\n",
      " #   Column             Non-Null Count   Dtype  \n",
      "---  ------             --------------   -----  \n",
      " 0   ID_dir             268213 non-null  object \n",
      " 1   year               268213 non-null  int64  \n",
      " 2   stock              268213 non-null  float64\n",
      " 3   th_o               268213 non-null  int64  \n",
      " 4   th_d               268213 non-null  int64  \n",
      " 5   bit                268213 non-null  int64  \n",
      " 6   desta_pta          268213 non-null  int64  \n",
      " 7   desta_depth        268213 non-null  int64  \n",
      " 8   desta_full_fta     268213 non-null  int64  \n",
      " 9   desta_iprs         268213 non-null  int64  \n",
      " 10  desta_procurement  268213 non-null  int64  \n",
      " 11  desta_standards    268213 non-null  int64  \n",
      " 12  desta_services     268213 non-null  int64  \n",
      " 13  desta_investments  268213 non-null  int64  \n",
      " 14  desta_competition  268213 non-null  int64  \n",
      " 15  contig             268213 non-null  int64  \n",
      " 16  dist               268213 non-null  float64\n",
      " 17  comlang_off        268213 non-null  int64  \n",
      " 18  comlang_ethno      268213 non-null  int64  \n",
      " 19  comcol             268213 non-null  int64  \n",
      " 20  col45              268213 non-null  int64  \n",
      " 21  legal_old_o        268213 non-null  int64  \n",
      " 22  legal_old_d        268213 non-null  int64  \n",
      " 23  heg_o              268213 non-null  int64  \n",
      " 24  heg_d              268213 non-null  int64  \n",
      " 25  col_dep_ever       268213 non-null  int64  \n",
      " 26  col_dep            268213 non-null  int64  \n",
      " 27  wto_d              268213 non-null  int64  \n",
      " 28  eu_o               268213 non-null  int64  \n",
      " 29  eu_d               268213 non-null  int64  \n",
      " 30  pop_o              268213 non-null  float64\n",
      " 31  pop_d              268213 non-null  float64\n",
      " 32  gdp_o              268213 non-null  float64\n",
      " 33  gdp_d              268213 non-null  float64\n",
      " 34  gdpcap_o           268213 non-null  float64\n",
      " 35  gdpcap_d           268213 non-null  float64\n",
      " 36  wgi_cc_o           268213 non-null  float64\n",
      " 37  wgi_ge_o           268213 non-null  float64\n",
      " 38  wgi_pv_o           268213 non-null  float64\n",
      " 39  wgi_rl_o           268213 non-null  float64\n",
      " 40  wgi_rq_o           268213 non-null  float64\n",
      " 41  wgi_va_o           268213 non-null  float64\n",
      " 42  wgi_cc_d           268213 non-null  float64\n",
      " 43  wgi_ge_d           268213 non-null  float64\n",
      " 44  wgi_pv_d           268213 non-null  float64\n",
      " 45  wgi_rl_d           268213 non-null  float64\n",
      " 46  wgi_rq_d           268213 non-null  float64\n",
      " 47  wgi_va_d           268213 non-null  float64\n",
      "dtypes: float64(20), int64(27), object(1)\n",
      "memory usage: 98.2+ MB\n"
     ]
    }
   ],
   "source": [
    "d.info()"
   ]
  },
  {
   "cell_type": "markdown",
   "metadata": {},
   "source": [
    "## Prepare data "
   ]
  },
  {
   "cell_type": "markdown",
   "metadata": {},
   "source": [
    "Ideally should use all of the years, but when computing the fixed effects (FE), the dimension increases by a lot and we run into RAM issues. There are approximately 25000 unique country pairs, and therefore the matrix of FE has dimenstion 268000 x 25000. For the time being, reduce the years coverage of the data. "
   ]
  },
  {
   "cell_type": "code",
   "execution_count": 5,
   "metadata": {},
   "outputs": [
    {
     "data": {
      "text/plain": [
       "year\n",
       "2002     9956\n",
       "2003    10098\n",
       "2004    10208\n",
       "2005    13504\n",
       "2006    14074\n",
       "2007    13980\n",
       "2008    13826\n",
       "2009    17575\n",
       "2010    18625\n",
       "2011    19995\n",
       "2012    20242\n",
       "2013    17682\n",
       "2014    16727\n",
       "2015    16763\n",
       "2016    17074\n",
       "2017    18953\n",
       "2018    18931\n",
       "dtype: int64"
      ]
     },
     "execution_count": 5,
     "metadata": {},
     "output_type": "execute_result"
    }
   ],
   "source": [
    "# count observations by year\n",
    "d.groupby(['year']).size()"
   ]
  },
  {
   "cell_type": "code",
   "execution_count": 6,
   "metadata": {},
   "outputs": [],
   "source": [
    "# subset data according to year\n",
    "d = d[d[\"year\"] > 2016]"
   ]
  },
  {
   "cell_type": "markdown",
   "metadata": {},
   "source": [
    "The outcome of interest is the stock of FDI from source in the destination country. When studying the intensive margin we only consider FDI values that are positive and take the log. Alternatively, use a log trans that preserves the zeros."
   ]
  },
  {
   "cell_type": "code",
   "execution_count": 8,
   "metadata": {},
   "outputs": [
    {
     "data": {
      "text/plain": [
       "(array([26711.,  2179.,  2272.,  2123.,  1909.,  1267.,   835.,   402.,\n",
       "          139.,    47.]),\n",
       " array([ 0.        ,  1.39101826,  2.78203652,  4.17305477,  5.56407303,\n",
       "         6.95509129,  8.34610955,  9.73712781, 11.12814606, 12.51916432,\n",
       "        13.91018258]),\n",
       " <a list of 10 Patch objects>)"
      ]
     },
     "execution_count": 8,
     "metadata": {},
     "output_type": "execute_result"
    },
    {
     "data": {
      "image/png": "[encoded data removed]",
      "text/plain": [
       "<Figure size 432x288 with 1 Axes>"
      ]
     },
     "metadata": {
      "needs_background": "light"
     },
     "output_type": "display_data"
    }
   ],
   "source": [
    "#d['stock'] = np.where(d['stock']>0, 1, 0)\n",
    "#d.groupby(['stock']).size()\n",
    "\n",
    "y = np.log1p(d['stock'].values) \n",
    "plt.hist(y)\n",
    "\n"
   ]
  },
  {
   "cell_type": "markdown",
   "metadata": {},
   "source": [
    "We can study different types of treatment variables:\n",
    "\n",
    "* Binary indicators for the presence of a Bilateral Investment Agreement and a Preferential Trade Agreement\n",
    "* A numeric variable for the depth of a Preferential Trade Agreement\n",
    "* A set of binary variables for the different component of Preferential Trade Agreements"
   ]
  },
  {
   "cell_type": "code",
   "execution_count": 18,
   "metadata": {},
   "outputs": [
    {
     "name": "stdout",
     "output_type": "stream",
     "text": [
      "[[0]\n",
      " [0]\n",
      " [0]\n",
      " ...\n",
      " [0]\n",
      " [1]\n",
      " [0]]\n",
      "(37884, 1)\n"
     ]
    }
   ],
   "source": [
    "# A binary treatment for the presence of a bit\n",
    "t_var = [\"bit\"]\n",
    "t = d[t_var].values.reshape(-1,1) \n",
    "\n",
    "print(t.shape)"
   ]
  },
  {
   "cell_type": "markdown",
   "metadata": {},
   "source": [
    "Select the variables that we want to use in the estimation of the heterogeneous effects"
   ]
  },
  {
   "cell_type": "code",
   "execution_count": 11,
   "metadata": {},
   "outputs": [],
   "source": [
    "# variable for the heterogeneous effects\n",
    "hetero_vars = [\"gdpcap_o\", \"gdpcap_d\"]\n",
    "X = d[hetero_vars].values\n"
   ]
  },
  {
   "cell_type": "markdown",
   "metadata": {},
   "source": [
    "Control variables are socio-economic factors associated with both the probability of receiving the different treatment, and the outcome variables. In addition, we also have to compute the fixed effects, in order to take in accout the panel nature of the data."
   ]
  },
  {
   "cell_type": "code",
   "execution_count": 12,
   "metadata": {},
   "outputs": [],
   "source": [
    "# matrix with controls\n",
    "policy_vars = [ #\"desta_pta\",\n",
    "                \"desta_full_fta\",\n",
    "                \"desta_iprs\",\n",
    "                \"desta_procurement\",\n",
    "                \"desta_standards\",\n",
    "                \"desta_services\",\n",
    "                \"desta_investments\",\n",
    "                \"desta_competition\"]\n",
    "\n",
    "\n",
    "\n",
    "control_drops = hetero_vars + policy_vars + t_var + ['ID_dir'] + ['year'] + ['stock']\n",
    "W = d.drop(control_drops, axis=1).values\n"
   ]
  },
  {
   "cell_type": "code",
   "execution_count": 13,
   "metadata": {},
   "outputs": [],
   "source": [
    "# Create Fixed effects\n",
    "from sklearn.preprocessing import OneHotEncoder\n",
    "\n",
    "FE = OneHotEncoder(sparse=False).fit_transform(d['ID_dir'].values.reshape(-1, 1))\n"
   ]
  },
  {
   "cell_type": "code",
   "execution_count": 14,
   "metadata": {},
   "outputs": [],
   "source": [
    "# we drop one in order to avoid multicollinearity\n",
    "#W = np.append(W, FE[:, 1:], axis=1)"
   ]
  },
  {
   "cell_type": "code",
   "execution_count": 15,
   "metadata": {},
   "outputs": [
    {
     "data": {
      "image/png": "[encoded data removed]",
      "text/latex": [
       "$\\displaystyle \\left( 37884, \\  35\\right)$"
      ],
      "text/plain": [
       "(37884, 35)"
      ]
     },
     "execution_count": 15,
     "metadata": {},
     "output_type": "execute_result"
    }
   ],
   "source": [
    "W.shape"
   ]
  },
  {
   "cell_type": "code",
   "execution_count": 16,
   "metadata": {},
   "outputs": [
    {
     "name": "stdout",
     "output_type": "stream",
     "text": [
      "<class 'numpy.ndarray'>\n",
      "<class 'numpy.ndarray'>\n",
      "<class 'numpy.ndarray'>\n",
      "<class 'numpy.ndarray'>\n"
     ]
    }
   ],
   "source": [
    "print(type(y))\n",
    "print(type(t))\n",
    "print(type(X))\n",
    "print(type(W))"
   ]
  },
  {
   "cell_type": "code",
   "execution_count": 20,
   "metadata": {},
   "outputs": [
    {
     "name": "stdout",
     "output_type": "stream",
     "text": [
      "(37884,)\n",
      "(37884, 1)\n",
      "(37884, 2)\n",
      "(37884, 35)\n"
     ]
    }
   ],
   "source": [
    "print(y.shape)\n",
    "print(t.shape)\n",
    "print(X.shape)\n",
    "print(W.shape)"
   ]
  },
  {
   "cell_type": "markdown",
   "metadata": {},
   "source": [
    "Finally, we also need to prepare the vectors for analyzing the heterogenous effects"
   ]
  },
  {
   "cell_type": "code",
   "execution_count": 44,
   "metadata": {},
   "outputs": [],
   "source": [
    "# gdpcap_o\n",
    "x_0 = np.array(np.linspace(np.min(X[:,0 ]),\n",
    "                           np.max(X[:,0 ]),\n",
    "                           15)).reshape(-1,1)"
   ]
  },
  {
   "cell_type": "code",
   "execution_count": 45,
   "metadata": {},
   "outputs": [],
   "source": [
    "# gdpcap_d\n",
    "x_1 = np.array(np.linspace(np.min(X[:,1 ]),\n",
    "                           np.max(X[:,1 ]),\n",
    "                           15)).reshape(-1,1)"
   ]
  },
  {
   "cell_type": "code",
   "execution_count": 46,
   "metadata": {},
   "outputs": [
    {
     "data": {
      "image/png": "[encoded data removed]",
      "text/latex": [
       "$\\displaystyle \\left( 225, \\  2\\right)$"
      ],
      "text/plain": [
       "(225, 2)"
      ]
     },
     "execution_count": 46,
     "metadata": {},
     "output_type": "execute_result"
    }
   ],
   "source": [
    "# now need to get all the combinations\n",
    "X_test = np.array([(x, y) for x in x_0 for y in x_1])[:,:,0]\n",
    "X_test.shape"
   ]
  },
  {
   "cell_type": "markdown",
   "metadata": {},
   "source": [
    "In addition, we also create some test data by keeping the one of the axis constant"
   ]
  },
  {
   "cell_type": "code",
   "execution_count": 24,
   "metadata": {},
   "outputs": [
    {
     "name": "stdout",
     "output_type": "stream",
     "text": [
      "(50, 2)\n",
      "(50, 2)\n"
     ]
    }
   ],
   "source": [
    "# first need to come up with the test data\n",
    "X_test_1 = np.array([(x, y) for x in x_0 for y in x_1[np.argmax(x_1>np.median(x_1))]]) #[:,:,0]\n",
    "X_test_0 = np.array([(x, y) for x in x_0[np.argmax(x_0>np.median(x_0))] for y in x_1]) # [:,:,0]\n",
    "\n",
    "print(X_test_0.shape)\n",
    "print(X_test_1.shape)"
   ]
  },
  {
   "cell_type": "markdown",
   "metadata": {},
   "source": [
    "## Causal forest, Double Machine Learning (CausalForestDML)"
   ]
  },
  {
   "cell_type": "markdown",
   "metadata": {},
   "source": [
    "In general, double machine learning estimation techniques consits in three steps\n",
    "* predict the outcome from the controls\n",
    "* predict the treatment from the controls\n",
    "* use the results from the previous steps to create a model of heterogenous causal effects\n",
    "\n",
    "The models used in the predictive task need to be adequate for the type of treatment and the type of outcome. Different methods can be used for the third step. They can be OLS, or some parametric thing."
   ]
  },
  {
   "cell_type": "markdown",
   "metadata": {},
   "source": [
    "### Model 1: Parametric estimation"
   ]
  },
  {
   "cell_type": "markdown",
   "metadata": {},
   "source": [
    "The baseline model we consider is an unregularized final model, which return confidence intervals for the effects, either using the standard asymptotic theory, or by bootstrapping:\n",
    "\n",
    "https://econml.azurewebsites.net/_autosummary/econml.dml.LinearDML.html#econml.dml.LinearDML\n",
    "\n",
    "https://github.com/microsoft/EconML/blob/master/notebooks/Double%20Machine%20Learning%20Examples.ipynb\n",
    "\n",
    "Notes:\n",
    "\n",
    "\n",
    "* **cv** is the number of folds for cross validation, uses StratifiedKFold when treatment is discrete. Defaults is 2\n",
    "* by default, will apply **LogisticRegressionCV** when **discrete_treatment=True**\n",
    "* with **fit_cate_intercept = True** the model estimates an intercept ( effect when hetero vars==0)\n",
    "* could pass in a function to **featurizer = None** to get polynomials of the hetero variables \n"
   ]
  },
  {
   "cell_type": "code",
   "execution_count": 26,
   "metadata": {},
   "outputs": [],
   "source": [
    "# firstly we define the model\n",
    "\n",
    "est0 = LinearDML(model_y=RandomForestRegressor(),\n",
    "                model_t=RandomForestClassifier(min_samples_leaf=10),\n",
    "                discrete_treatment=True,\n",
    "                fit_cate_intercept = True,\n",
    "                featurizer = None,\n",
    "                linear_first_stages=False,\n",
    "                cv=6)\n"
   ]
  },
  {
   "cell_type": "code",
   "execution_count": null,
   "metadata": {},
   "outputs": [],
   "source": [
    "# estimate the model\n",
    "est0.fit(y,\n",
    "        t,\n",
    "        X=X,\n",
    "        W=W)"
   ]
  },
  {
   "cell_type": "markdown",
   "metadata": {},
   "source": [
    "### Model 2: Non parametric estimation"
   ]
  },
  {
   "cell_type": "markdown",
   "metadata": {},
   "source": []
  },
  {
   "cell_type": "code",
   "execution_count": 64,
   "metadata": {},
   "outputs": [],
   "source": [
    "est1 = CausalForestDML(model_y=RandomForestRegressor(),\n",
    "                       model_t=RandomForestClassifier(min_samples_leaf=10),\n",
    "                       discrete_treatment=True,\n",
    "                       n_estimators=1000,\n",
    "                       min_impurity_decrease=0.001,\n",
    "                       verbose=0,\n",
    "                       cv=6)"
   ]
  },
  {
   "cell_type": "code",
   "execution_count": null,
   "metadata": {},
   "outputs": [],
   "source": [
    "est1.tune(y,\n",
    "          t,\n",
    "          X=X,\n",
    "          W=W)\n",
    "\n",
    "est1.fit(y,\n",
    "         t,\n",
    "         X=X,\n",
    "         W=W)"
   ]
  },
  {
   "cell_type": "markdown",
   "metadata": {},
   "source": [
    "Now we can have a look at the estimated effect:"
   ]
  },
  {
   "cell_type": "code",
   "execution_count": 28,
   "metadata": {},
   "outputs": [
    {
     "data": {
      "text/html": [
       "<table class=\"simpletable\">\n",
       "<caption>Coefficient Results</caption>\n",
       "<tr>\n",
       "   <td></td>  <th>point_estimate</th> <th>stderr</th>  <th>zstat</th> <th>pvalue</th> <th>ci_lower</th> <th>ci_upper</th>\n",
       "</tr>\n",
       "<tr>\n",
       "  <th>X0</th>      <td>0.045</td>      <td>0.021</td>  <td>2.168</td>  <td>0.03</td>    <td>0.011</td>    <td>0.079</td> \n",
       "</tr>\n",
       "<tr>\n",
       "  <th>X1</th>     <td>-0.025</td>      <td>0.024</td> <td>-1.064</td>  <td>0.287</td>  <td>-0.065</td>    <td>0.014</td> \n",
       "</tr>\n",
       "</table>\n",
       "<table class=\"simpletable\">\n",
       "<caption>CATE Intercept Results</caption>\n",
       "<tr>\n",
       "         <td></td>        <th>point_estimate</th> <th>stderr</th> <th>zstat</th> <th>pvalue</th> <th>ci_lower</th> <th>ci_upper</th>\n",
       "</tr>\n",
       "<tr>\n",
       "  <th>cate_intercept</th>      <td>0.184</td>      <td>0.082</td> <td>2.25</td>   <td>0.024</td>   <td>0.049</td>    <td>0.318</td> \n",
       "</tr>\n",
       "</table><br/><br/><sub>A linear parametric conditional average treatment effect (CATE) model was fitted:<br/>$Y = \\Theta(X)\\cdot T + g(X, W) + \\epsilon$<br/>where for every outcome $i$ and treatment $j$ the CATE $\\Theta_{ij}(X)$ has the form:<br/>$\\Theta_{ij}(X) = \\phi(X)' coef_{ij} + cate\\_intercept_{ij}$<br/>where $\\phi(X)$ is the output of the `featurizer` or $X$ if `featurizer`=None. Coefficient Results table portrays the $coef_{ij}$ parameter vector for each outcome $i$ and treatment $j$. Intercept Results table portrays the $cate\\_intercept_{ij}$ parameter.</sub>"
      ],
      "text/plain": [
       "<class 'econml.utilities.Summary'>\n",
       "\"\"\"\n",
       "                  Coefficient Results                   \n",
       "========================================================\n",
       "   point_estimate stderr zstat  pvalue ci_lower ci_upper\n",
       "--------------------------------------------------------\n",
       "X0          0.045  0.021  2.168   0.03    0.011    0.079\n",
       "X1         -0.025  0.024 -1.064  0.287   -0.065    0.014\n",
       "                       CATE Intercept Results                      \n",
       "===================================================================\n",
       "               point_estimate stderr zstat pvalue ci_lower ci_upper\n",
       "-------------------------------------------------------------------\n",
       "cate_intercept          0.184  0.082  2.25  0.024    0.049    0.318\n",
       "-------------------------------------------------------------------\n",
       "\n",
       "<sub>A linear parametric conditional average treatment effect (CATE) model was fitted:\n",
       "$Y = \\Theta(X)\\cdot T + g(X, W) + \\epsilon$\n",
       "where for every outcome $i$ and treatment $j$ the CATE $\\Theta_{ij}(X)$ has the form:\n",
       "$\\Theta_{ij}(X) = \\phi(X)' coef_{ij} + cate\\_intercept_{ij}$\n",
       "where $\\phi(X)$ is the output of the `featurizer` or $X$ if `featurizer`=None. Coefficient Results table portrays the $coef_{ij}$ parameter vector for each outcome $i$ and treatment $j$. Intercept Results table portrays the $cate\\_intercept_{ij}$ parameter.</sub>\n",
       "\"\"\""
      ]
     },
     "execution_count": 28,
     "metadata": {},
     "output_type": "execute_result"
    }
   ],
   "source": [
    "est.summary()"
   ]
  },
  {
   "cell_type": "markdown",
   "metadata": {},
   "source": [
    "Now we can plot a heatmap with the estimated effects, for a range of the variables used in the computation of the heterogenous effects"
   ]
  },
  {
   "cell_type": "code",
   "execution_count": 48,
   "metadata": {},
   "outputs": [],
   "source": [
    "te_pred = est.effect(X_test)\n",
    "lb, ub = est.effect_interval(X_test, alpha=0.01)"
   ]
  },
  {
   "cell_type": "markdown",
   "metadata": {},
   "source": [
    "Now we can investigate the estimated effects. The model we used assumes a liner relationship between the variables used for the computation of the heterogenous effects and the outcome. We should be able to retrieve the numbers displayed above.\n",
    "\n",
    "* by setting X to zero we find out the two intercepts\n",
    "* by keeping constant the GDP per capita of the origin  and changing the one of the destination, we see the marginal \n",
    "* as above, but inverst origin and destination"
   ]
  },
  {
   "cell_type": "code",
   "execution_count": 49,
   "metadata": {},
   "outputs": [
    {
     "data": {
      "text/plain": [
       "array([[0.18394265]])"
      ]
     },
     "execution_count": 49,
     "metadata": {},
     "output_type": "execute_result"
    }
   ],
   "source": [
    "# is an intercept estimated?\n",
    "est.const_marginal_effect([[0, 0]])"
   ]
  },
  {
   "cell_type": "code",
   "execution_count": 50,
   "metadata": {},
   "outputs": [
    {
     "data": {
      "text/plain": [
       "array([[0.15855927],\n",
       "       [0.20327184],\n",
       "       [0.24798442]])"
      ]
     },
     "execution_count": 50,
     "metadata": {},
     "output_type": "execute_result"
    }
   ],
   "source": [
    "k = est.const_marginal_effect([[0, 1], [1, 1], [2, 1]])\n",
    "k"
   ]
  },
  {
   "cell_type": "code",
   "execution_count": 51,
   "metadata": {},
   "outputs": [
    {
     "name": "stdout",
     "output_type": "stream",
     "text": [
      "0.044712574488742246\n",
      "0.044712574488742274\n"
     ]
    }
   ],
   "source": [
    "# marginal effect of the BIT (increase the GDP per capita or the origin)\n",
    "print(k[1,0] - k[0,0])\n",
    "print(k[2,0] - k[1,0])"
   ]
  },
  {
   "cell_type": "markdown",
   "metadata": {},
   "source": [
    "Plot a heatmap with the effect for the different combinations of GDP per capita"
   ]
  },
  {
   "cell_type": "code",
   "execution_count": 52,
   "metadata": {},
   "outputs": [],
   "source": [
    "df_bit = pd.DataFrame.from_dict(np.array([np.around(X_test[:, 0], decimals=2, out=None),\n",
    "                                          np.around(X_test[:, 1], decimals=2, out=None),\n",
    "                                          te_pred]).T)\n",
    "df_bit.columns = ['X_value','Y_value','Z_value']\n",
    "df_bit['Z_value'] = pd.to_numeric(df_bit['Z_value'])\n",
    "\n"
   ]
  },
  {
   "cell_type": "code",
   "execution_count": 53,
   "metadata": {},
   "outputs": [],
   "source": [
    "df_bit_piv = df_bit.pivot('Y_value','X_value','Z_value')"
   ]
  },
  {
   "cell_type": "code",
   "execution_count": 54,
   "metadata": {},
   "outputs": [],
   "source": [
    "df_bit_piv.sort_index(level=0, ascending=False, inplace=True)"
   ]
  },
  {
   "cell_type": "code",
   "execution_count": 55,
   "metadata": {},
   "outputs": [
    {
     "data": {
      "text/plain": [
       "Text(33.0, 0.5, 'GDP per capita destination (log)')"
      ]
     },
     "execution_count": 55,
     "metadata": {},
     "output_type": "execute_result"
    },
    {
     "data": {
      "image/png": "[encoded data removed]",
      "text/plain": [
       "<Figure size 432x288 with 2 Axes>"
      ]
     },
     "metadata": {
      "needs_background": "light"
     },
     "output_type": "display_data"
    }
   ],
   "source": [
    "import seaborn as sns\n",
    "sns.heatmap(df_bit_piv,cmap='coolwarm', center=0)\n",
    "cmap=\"YlGnBu\"\n",
    "\n",
    "# Add title and labels to plot.\n",
    "plt.title('Effect of BITs')\n",
    "plt.xlabel('GDP per capita origin (log)')\n",
    "plt.ylabel('GDP per capita destination (log)')\n"
   ]
  },
  {
   "cell_type": "markdown",
   "metadata": {},
   "source": [
    "Now we can investigate a bit more in detail.\n",
    "\n",
    "We can study the effects by making use of the **SHAP (SHapley Additive exPlanations)** library https://shap.readthedocs.io/en/latest/ \n",
    "\n"
   ]
  },
  {
   "cell_type": "code",
   "execution_count": 56,
   "metadata": {},
   "outputs": [],
   "source": [
    "import shap"
   ]
  },
  {
   "cell_type": "code",
   "execution_count": 57,
   "metadata": {},
   "outputs": [
    {
     "data": {
      "image/png": "[encoded data removed]",
      "text/plain": [
       "<Figure size 576x165.6 with 2 Axes>"
      ]
     },
     "metadata": {
      "needs_background": "light"
     },
     "output_type": "display_data"
    }
   ],
   "source": [
    "shap_values = est.shap_values(X)\n",
    "shap.plots.beeswarm(shap_values['Y0']['T0_1'])"
   ]
  },
  {
   "cell_type": "code",
   "execution_count": 60,
   "metadata": {},
   "outputs": [
    {
     "data": {
      "text/html": [
       "<div>\n",
       "<style scoped>\n",
       "    .dataframe tbody tr th:only-of-type {\n",
       "        vertical-align: middle;\n",
       "    }\n",
       "\n",
       "    .dataframe tbody tr th {\n",
       "        vertical-align: top;\n",
       "    }\n",
       "\n",
       "    .dataframe thead th {\n",
       "        text-align: right;\n",
       "    }\n",
       "</style>\n",
       "<table border=\"1\" class=\"dataframe\">\n",
       "  <thead>\n",
       "    <tr style=\"text-align: right;\">\n",
       "      <th></th>\n",
       "      <th>point_estimate</th>\n",
       "      <th>stderr</th>\n",
       "      <th>zstat</th>\n",
       "      <th>pvalue</th>\n",
       "      <th>ci_lower</th>\n",
       "      <th>ci_upper</th>\n",
       "    </tr>\n",
       "    <tr>\n",
       "      <th>X</th>\n",
       "      <th></th>\n",
       "      <th></th>\n",
       "      <th></th>\n",
       "      <th></th>\n",
       "      <th></th>\n",
       "      <th></th>\n",
       "    </tr>\n",
       "  </thead>\n",
       "  <tbody>\n",
       "    <tr>\n",
       "      <th>0</th>\n",
       "      <td>0.159</td>\n",
       "      <td>0.127</td>\n",
       "      <td>1.252</td>\n",
       "      <td>0.211</td>\n",
       "      <td>-0.050</td>\n",
       "      <td>0.367</td>\n",
       "    </tr>\n",
       "    <tr>\n",
       "      <th>1</th>\n",
       "      <td>0.148</td>\n",
       "      <td>0.118</td>\n",
       "      <td>1.248</td>\n",
       "      <td>0.212</td>\n",
       "      <td>-0.047</td>\n",
       "      <td>0.343</td>\n",
       "    </tr>\n",
       "    <tr>\n",
       "      <th>2</th>\n",
       "      <td>0.137</td>\n",
       "      <td>0.110</td>\n",
       "      <td>1.239</td>\n",
       "      <td>0.215</td>\n",
       "      <td>-0.045</td>\n",
       "      <td>0.318</td>\n",
       "    </tr>\n",
       "    <tr>\n",
       "      <th>3</th>\n",
       "      <td>0.126</td>\n",
       "      <td>0.103</td>\n",
       "      <td>1.224</td>\n",
       "      <td>0.221</td>\n",
       "      <td>-0.043</td>\n",
       "      <td>0.295</td>\n",
       "    </tr>\n",
       "    <tr>\n",
       "      <th>4</th>\n",
       "      <td>0.115</td>\n",
       "      <td>0.096</td>\n",
       "      <td>1.201</td>\n",
       "      <td>0.230</td>\n",
       "      <td>-0.042</td>\n",
       "      <td>0.272</td>\n",
       "    </tr>\n",
       "    <tr>\n",
       "      <th>...</th>\n",
       "      <td>...</td>\n",
       "      <td>...</td>\n",
       "      <td>...</td>\n",
       "      <td>...</td>\n",
       "      <td>...</td>\n",
       "      <td>...</td>\n",
       "    </tr>\n",
       "    <tr>\n",
       "      <th>220</th>\n",
       "      <td>0.320</td>\n",
       "      <td>0.070</td>\n",
       "      <td>4.546</td>\n",
       "      <td>0.000</td>\n",
       "      <td>0.204</td>\n",
       "      <td>0.436</td>\n",
       "    </tr>\n",
       "    <tr>\n",
       "      <th>221</th>\n",
       "      <td>0.309</td>\n",
       "      <td>0.076</td>\n",
       "      <td>4.049</td>\n",
       "      <td>0.000</td>\n",
       "      <td>0.183</td>\n",
       "      <td>0.434</td>\n",
       "    </tr>\n",
       "    <tr>\n",
       "      <th>222</th>\n",
       "      <td>0.298</td>\n",
       "      <td>0.083</td>\n",
       "      <td>3.586</td>\n",
       "      <td>0.000</td>\n",
       "      <td>0.161</td>\n",
       "      <td>0.435</td>\n",
       "    </tr>\n",
       "    <tr>\n",
       "      <th>223</th>\n",
       "      <td>0.287</td>\n",
       "      <td>0.091</td>\n",
       "      <td>3.169</td>\n",
       "      <td>0.002</td>\n",
       "      <td>0.138</td>\n",
       "      <td>0.436</td>\n",
       "    </tr>\n",
       "    <tr>\n",
       "      <th>224</th>\n",
       "      <td>0.276</td>\n",
       "      <td>0.099</td>\n",
       "      <td>2.800</td>\n",
       "      <td>0.005</td>\n",
       "      <td>0.114</td>\n",
       "      <td>0.438</td>\n",
       "    </tr>\n",
       "  </tbody>\n",
       "</table>\n",
       "<p>225 rows × 6 columns</p>\n",
       "</div>"
      ],
      "text/plain": [
       "     point_estimate  stderr  zstat  pvalue  ci_lower  ci_upper\n",
       "X                                                             \n",
       "0             0.159   0.127  1.252   0.211    -0.050     0.367\n",
       "1             0.148   0.118  1.248   0.212    -0.047     0.343\n",
       "2             0.137   0.110  1.239   0.215    -0.045     0.318\n",
       "3             0.126   0.103  1.224   0.221    -0.043     0.295\n",
       "4             0.115   0.096  1.201   0.230    -0.042     0.272\n",
       "..              ...     ...    ...     ...       ...       ...\n",
       "220           0.320   0.070  4.546   0.000     0.204     0.436\n",
       "221           0.309   0.076  4.049   0.000     0.183     0.434\n",
       "222           0.298   0.083  3.586   0.000     0.161     0.435\n",
       "223           0.287   0.091  3.169   0.002     0.138     0.436\n",
       "224           0.276   0.099  2.800   0.005     0.114     0.438\n",
       "\n",
       "[225 rows x 6 columns]"
      ]
     },
     "execution_count": 60,
     "metadata": {},
     "output_type": "execute_result"
    }
   ],
   "source": [
    "\n",
    "est.effect_inference(X_test).summary_frame(alpha=0.1, value=0, decimals=3)\n",
    "\n"
   ]
  },
  {
   "cell_type": "code",
   "execution_count": 59,
   "metadata": {},
   "outputs": [],
   "source": [
    "lb_effect, ub_effect = est.const_marginal_effect_interval(X, alpha=.05)\n",
    "pnt_coef = est.coef_\n",
    "lb_coef, ub_coef = est.coef__interval(alpha=.05)"
   ]
  },
  {
   "cell_type": "markdown",
   "metadata": {},
   "source": [
    "Population inference using sample"
   ]
  },
  {
   "cell_type": "code",
   "execution_count": 61,
   "metadata": {},
   "outputs": [
    {
     "data": {
      "text/html": [
       "<table class=\"simpletable\">\n",
       "<caption>Uncertainty of Mean Point Estimate</caption>\n",
       "<tr>\n",
       "  <th>mean_point</th> <th>stderr_mean</th> <th>zstat</th> <th>pvalue</th> <th>ci_mean_lower</th> <th>ci_mean_upper</th>\n",
       "</tr>\n",
       "<tr>\n",
       "     <td>0.217</td>      <td>0.031</td>    <td>6.92</td>    <td>0.0</td>      <td>0.166</td>         <td>0.269</td>    \n",
       "</tr>\n",
       "</table>\n",
       "<table class=\"simpletable\">\n",
       "<caption>Distribution of Point Estimate</caption>\n",
       "<tr>\n",
       "  <th>std_point</th> <th>pct_point_lower</th> <th>pct_point_upper</th>\n",
       "</tr>\n",
       "<tr>\n",
       "    <td>0.096</td>        <td>0.06</td>            <td>0.374</td>     \n",
       "</tr>\n",
       "</table>\n",
       "<table class=\"simpletable\">\n",
       "<caption>Total Variance of Point Estimate</caption>\n",
       "<tr>\n",
       "  <th>stderr_point</th> <th>ci_point_lower</th> <th>ci_point_upper</th>\n",
       "</tr>\n",
       "<tr>\n",
       "      <td>0.101</td>         <td>0.024</td>          <td>0.409</td>    \n",
       "</tr>\n",
       "</table>"
      ],
      "text/plain": [
       "<econml.inference._inference.PopulationSummaryResults at 0x19307778730>"
      ]
     },
     "execution_count": 61,
     "metadata": {},
     "output_type": "execute_result"
    }
   ],
   "source": [
    "est.effect_inference(X_test).population_summary(alpha=0.1, value=0, decimals=3, tol=0.001)"
   ]
  },
  {
   "cell_type": "code",
   "execution_count": 62,
   "metadata": {},
   "outputs": [
    {
     "data": {
      "text/html": [
       "<div>\n",
       "<style scoped>\n",
       "    .dataframe tbody tr th:only-of-type {\n",
       "        vertical-align: middle;\n",
       "    }\n",
       "\n",
       "    .dataframe tbody tr th {\n",
       "        vertical-align: top;\n",
       "    }\n",
       "\n",
       "    .dataframe thead th {\n",
       "        text-align: right;\n",
       "    }\n",
       "</style>\n",
       "<table border=\"1\" class=\"dataframe\">\n",
       "  <thead>\n",
       "    <tr style=\"text-align: right;\">\n",
       "      <th></th>\n",
       "      <th>point_estimate</th>\n",
       "      <th>stderr</th>\n",
       "      <th>zstat</th>\n",
       "      <th>pvalue</th>\n",
       "      <th>ci_lower</th>\n",
       "      <th>ci_upper</th>\n",
       "    </tr>\n",
       "    <tr>\n",
       "      <th>X</th>\n",
       "      <th></th>\n",
       "      <th></th>\n",
       "      <th></th>\n",
       "      <th></th>\n",
       "      <th></th>\n",
       "      <th></th>\n",
       "    </tr>\n",
       "  </thead>\n",
       "  <tbody>\n",
       "    <tr>\n",
       "      <th>X0</th>\n",
       "      <td>0.045</td>\n",
       "      <td>0.021</td>\n",
       "      <td>2.168</td>\n",
       "      <td>0.030</td>\n",
       "      <td>0.011</td>\n",
       "      <td>0.079</td>\n",
       "    </tr>\n",
       "    <tr>\n",
       "      <th>X1</th>\n",
       "      <td>-0.025</td>\n",
       "      <td>0.024</td>\n",
       "      <td>-1.064</td>\n",
       "      <td>0.287</td>\n",
       "      <td>-0.065</td>\n",
       "      <td>0.014</td>\n",
       "    </tr>\n",
       "  </tbody>\n",
       "</table>\n",
       "</div>"
      ],
      "text/plain": [
       "    point_estimate  stderr  zstat  pvalue  ci_lower  ci_upper\n",
       "X                                                            \n",
       "X0           0.045   0.021  2.168   0.030     0.011     0.079\n",
       "X1          -0.025   0.024 -1.064   0.287    -0.065     0.014"
      ]
     },
     "execution_count": 62,
     "metadata": {},
     "output_type": "execute_result"
    }
   ],
   "source": [
    "# coefficients inference\n",
    "est.coef__inference().summary_frame()"
   ]
  },
  {
   "cell_type": "markdown",
   "metadata": {},
   "source": [
    "Now we can visualize the effects"
   ]
  },
  {
   "cell_type": "code",
   "execution_count": null,
   "metadata": {},
   "outputs": [],
   "source": [
    "point = est.const_marginal_effect(X)\n",
    "lb, ub = est.const_marginal_effect_interval(X, alpha=0.05)"
   ]
  },
  {
   "cell_type": "code",
   "execution_count": null,
   "metadata": {},
   "outputs": [],
   "source": [
    "#plot zero line\n",
    "plt.figure(figsize=(15, 5))\n",
    "plt.subplot(1, 2, 1)\n",
    "#plt.plot(X[:, 0], np.repeat(0,X[0]), '--') # zero line\n",
    "plt.plot(X[:, 0], point, '--')\n",
    "#plt.plot(X_test[:, 0], pred2, label='nonparamdml')\n",
    "#plt.plot(X_test[:, 0], pred, label='forestdml (causal forest)')\n",
    "plt.fill_between(X[:, 0], lb, ub, alpha=.4, label='Honest CI')\n",
    "plt.legend()\n",
    "plt.show()"
   ]
  },
  {
   "cell_type": "markdown",
   "metadata": {},
   "source": [
    "### Binary outcome, one binary treatment "
   ]
  },
  {
   "cell_type": "markdown",
   "metadata": {},
   "source": [
    "Both y and t are binary in this case, therefore can use a random forest classifier for the two prediction tasks"
   ]
  },
  {
   "cell_type": "code",
   "execution_count": null,
   "metadata": {},
   "outputs": [],
   "source": [
    "from econml.dml import CausalForestDML\n",
    "from sklearn.ensemble import RandomForestClassifier\n",
    "\n",
    "est_dum = CausalForestDML(model_y=RandomForestClassifier(),\n",
    "                          model_t=RandomForestClassifier())\n",
    "est_dum.fit(y_dum,\n",
    "            t_dum,\n",
    "            X=X_dum,\n",
    "            W=W_dum)"
   ]
  },
  {
   "cell_type": "code",
   "execution_count": null,
   "metadata": {},
   "outputs": [],
   "source": [
    "est_dum.score_"
   ]
  },
  {
   "cell_type": "code",
   "execution_count": null,
   "metadata": {},
   "outputs": [],
   "source": [
    "point = est_dum.const_marginal_effect(X_dum_test)\n",
    "point.shape"
   ]
  },
  {
   "cell_type": "code",
   "execution_count": null,
   "metadata": {},
   "outputs": [],
   "source": [
    "plt.hist(d['stock'].values)\n"
   ]
  },
  {
   "cell_type": "code",
   "execution_count": null,
   "metadata": {},
   "outputs": [],
   "source": [
    "point"
   ]
  },
  {
   "cell_type": "code",
   "execution_count": null,
   "metadata": {},
   "outputs": [],
   "source": [
    "# 95% confidence intervals for the hetero effects\n",
    "lb, ub = est_dum.effect_interval(X_dum_test,\n",
    "                                 T0=t0,\n",
    "                                 T1=t1,\n",
    "                                 alpha=0.05)"
   ]
  },
  {
   "cell_type": "code",
   "execution_count": null,
   "metadata": {},
   "outputs": [],
   "source": []
  },
  {
   "cell_type": "code",
   "execution_count": null,
   "metadata": {},
   "outputs": [],
   "source": [
    "#plot zero line\n",
    "plt.figure(figsize=(15, 5))\n",
    "plt.subplot(1, 2, 1)\n",
    "plt.plot(X_dum_test[:, 0], np.repeat(0,X_dum_test.shape[0]), '--') # zero line\n",
    "plt.plot(X_dum_test[:, 0], point, '--')\n",
    "#plt.plot(X_test[:, 0], pred2, label='nonparamdml')\n",
    "#plt.plot(X_test[:, 0], pred, label='forestdml (causal forest)')\n",
    "plt.fill_between(X_dum_test[:, 0], lb, ub, alpha=.4, label='Honest CI')\n",
    "plt.legend()\n",
    "plt.show()"
   ]
  },
  {
   "cell_type": "markdown",
   "metadata": {},
   "source": [
    "### Continuous outcome, one binary treatment"
   ]
  },
  {
   "cell_type": "code",
   "execution_count": null,
   "metadata": {},
   "outputs": [],
   "source": [
    "from econml.dml import CausalForestDML\n",
    "from sklearn.ensemble import RandomForestClassifier\n",
    "\n",
    "est_dum = CausalForestDML(model_y=RandomForestClassifier(),\n",
    "                          model_t=RandomForestClassifier())\n",
    "est_dum.fit(y_dum,\n",
    "            t_dum,\n",
    "            X=X_dum,\n",
    "            W=W_dum)\n"
   ]
  },
  {
   "cell_type": "code",
   "execution_count": null,
   "metadata": {},
   "outputs": [],
   "source": [
    "from econml.dml import CausalForestDML\n",
    "from sklearn.ensemble import GradientBoostingRegressor"
   ]
  },
  {
   "cell_type": "markdown",
   "metadata": {},
   "source": [
    "GB builds an additive model in a forward stage-wise fashion; it allows for the optimization of arbitrary differentiable loss functions. In each stage a regression tree is fit on the negative gradient of the given loss function."
   ]
  },
  {
   "cell_type": "code",
   "execution_count": null,
   "metadata": {},
   "outputs": [],
   "source": [
    "est = CausalForestDML(model_y=GradientBoostingRegressor(),\n",
    "                     model_t=GradientBoostingRegressor())"
   ]
  },
  {
   "cell_type": "code",
   "execution_count": null,
   "metadata": {},
   "outputs": [],
   "source": [
    "est.fit(y_val,\n",
    "        t_val,\n",
    "        X=X_val,\n",
    "        W=W_val)"
   ]
  },
  {
   "cell_type": "code",
   "execution_count": null,
   "metadata": {},
   "outputs": [],
   "source": [
    "est.score_"
   ]
  },
  {
   "cell_type": "code",
   "execution_count": null,
   "metadata": {},
   "outputs": [],
   "source": [
    "point = est.const_marginal_effect(X_dum_test)\n",
    "point.shape"
   ]
  },
  {
   "cell_type": "code",
   "execution_count": null,
   "metadata": {},
   "outputs": [],
   "source": [
    "lb, ub = est.const_marginal_effect_interval(X_dum_test, alpha=.05)"
   ]
  },
  {
   "cell_type": "code",
   "execution_count": null,
   "metadata": {},
   "outputs": [],
   "source": [
    "#plot zero line\n",
    "plt.figure(figsize=(15, 5))\n",
    "plt.subplot(1, 2, 1)\n",
    "plt.plot(X_dum_test[:, 0], np.repeat(0,X_dum_test.shape[0]), '--') # zero line\n",
    "plt.plot(X_dum_test[:, 0], point, '-')\n",
    "#plt.plot(X_test[:, 0], pred2, label='nonparamdml')\n",
    "#plt.plot(X_test[:, 0], pred, label='forestdml (causal forest)')\n",
    "plt.fill_between(X_dum_test[:, 0], lb, ub, alpha=.4, label='Honest CI')\n",
    "plt.legend()\n",
    "plt.show()"
   ]
  },
  {
   "cell_type": "markdown",
   "metadata": {},
   "source": [
    "Try to modify the models for the treatment selection\n"
   ]
  },
  {
   "cell_type": "code",
   "execution_count": null,
   "metadata": {},
   "outputs": [],
   "source": [
    "est = CausalForestDML(model_y=GradientBoostingRegressor(),\n",
    "                     model_t=RandomForestClassifier())"
   ]
  },
  {
   "cell_type": "code",
   "execution_count": null,
   "metadata": {},
   "outputs": [],
   "source": [
    "est.fit(y_val,\n",
    "        t_val,\n",
    "        X=X_val,\n",
    "        W=W_val)"
   ]
  },
  {
   "cell_type": "code",
   "execution_count": null,
   "metadata": {},
   "outputs": [],
   "source": [
    "point = est.const_marginal_effect(X_dum_test)\n",
    "point.shape"
   ]
  },
  {
   "cell_type": "code",
   "execution_count": null,
   "metadata": {},
   "outputs": [],
   "source": [
    "lb, ub = est.const_marginal_effect_interval(X_dum_test, alpha=.05)"
   ]
  },
  {
   "cell_type": "code",
   "execution_count": null,
   "metadata": {},
   "outputs": [],
   "source": [
    "#plot zero line\n",
    "plt.figure(figsize=(15, 5))\n",
    "plt.subplot(1, 2, 1)\n",
    "plt.plot(X_dum_test[:, 0], np.repeat(0,X_dum_test.shape[0]), '--') # zero line\n",
    "plt.plot(X_dum_test[:, 0], point, '-')\n",
    "#plt.plot(X_test[:, 0], pred2, label='nonparamdml')\n",
    "#plt.plot(X_test[:, 0], pred, label='forestdml (causal forest)')\n",
    "plt.fill_between(X_dum_test[:, 0], lb, ub, alpha=.4, label='Honest CI')\n",
    "plt.legend()\n",
    "plt.show()"
   ]
  },
  {
   "cell_type": "code",
   "execution_count": null,
   "metadata": {},
   "outputs": [],
   "source": [
    "est.score_"
   ]
  },
  {
   "cell_type": "markdown",
   "metadata": {},
   "source": [
    "Let s try a linear effect"
   ]
  },
  {
   "cell_type": "markdown",
   "metadata": {},
   "source": [
    "## Causal forest, Doubly Robust Machine Learning (ForestDRLearner)"
   ]
  },
  {
   "cell_type": "code",
   "execution_count": null,
   "metadata": {},
   "outputs": [],
   "source": [
    "from econml.dr import ForestDRLearner\n",
    "from sklearn.ensemble import GradientBoostingRegressor, GradientBoostingClassifier\n",
    "est = ForestDRLearner(model_regression=GradientBoostingRegressor(),\n",
    "                      model_propensity=GradientBoostingClassifier())\n",
    "est.fit(y, t, X=X, W=W)\n"
   ]
  },
  {
   "cell_type": "code",
   "execution_count": null,
   "metadata": {},
   "outputs": [],
   "source": [
    "point = est.effect(X, T0=t0, T1=t1)\n",
    "lb, ub = est.effect_interval(X, T0=t0, T1=t1, alpha=0.05)"
   ]
  },
  {
   "cell_type": "code",
   "execution_count": null,
   "metadata": {},
   "outputs": [],
   "source": [
    "est.score_"
   ]
  },
  {
   "cell_type": "code",
   "execution_count": null,
   "metadata": {},
   "outputs": [],
   "source": []
  }
 ],
 "metadata": {
  "kernelspec": {
   "display_name": "Python 3",
   "language": "python",
   "name": "python3"
  },
  "language_info": {
   "codemirror_mode": {
    "name": "ipython",
    "version": 3
   },
   "file_extension": ".py",
   "mimetype": "text/x-python",
   "name": "python",
   "nbconvert_exporter": "python",
   "pygments_lexer": "ipython3",
   "version": "3.8.3"
  }
 },
 "nbformat": 4,
 "nbformat_minor": 4
}
